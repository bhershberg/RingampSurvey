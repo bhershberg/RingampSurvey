{
 "cells": [
  {
   "cell_type": "code",
   "execution_count": null,
   "metadata": {},
   "outputs": [],
   "source": [
    "import numpy as np\n",
    "import matplotlib.pyplot as plt\n",
    "import pandas as pd"
   ]
  },
  {
   "cell_type": "code",
   "execution_count": null,
   "metadata": {},
   "outputs": [],
   "source": [
    "# Load up the Murmann ADC Survey Data\n",
    "# -----------------------------------\n",
    "# This code is copied from: https://github.com/bmurmann/ADC-survey/blob/main/plots/energy_plot.ipynb\n",
    "\n",
    "# Read latest survey data and concatenate ISSCC and VLSI data\n",
    "data = \"https://github.com/bmurmann/ADC-survey/blob/main/xls/ADCsurvey_latest.xls?raw=true\"\n",
    "df1 = pd.read_excel(data, sheet_name='ISSCC')\n",
    "df2 = pd.read_excel(data, sheet_name='VLSI')\n",
    "df = pd.concat([df1, df2])\n",
    "\n",
    "# Show headers of data table\n",
    "print(df.keys())"
   ]
  },
  {
   "cell_type": "code",
   "execution_count": null,
   "metadata": {},
   "outputs": [],
   "source": []
  }
 ],
 "metadata": {
  "kernelspec": {
   "display_name": "Python 3",
   "language": "python",
   "name": "python3"
  },
  "language_info": {
   "codemirror_mode": {
    "name": "ipython",
    "version": 3
   },
   "file_extension": ".py",
   "mimetype": "text/x-python",
   "name": "python",
   "nbconvert_exporter": "python",
   "pygments_lexer": "ipython3",
   "version": "3.10.10"
  },
  "orig_nbformat": 4,
  "vscode": {
   "interpreter": {
    "hash": "213c1c7ad37a7aa5ca0a9ccd8c2a95ccdd3661601a5bf483edd7deee5982b4d1"
   }
  }
 },
 "nbformat": 4,
 "nbformat_minor": 2
}
